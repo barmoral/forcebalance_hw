{
 "cells": [
  {
   "cell_type": "code",
   "execution_count": 13,
   "metadata": {},
   "outputs": [],
   "source": [
    "import numpy as np\n",
    "import matplotlib.pyplot as plt\n",
    "import MDAnalysis as mda\n",
    "import pickle"
   ]
  },
  {
   "cell_type": "code",
   "execution_count": 2,
   "metadata": {},
   "outputs": [],
   "source": [
    "u = mda.Universe('md.gro', 'md.xtc')\n",
    "u.transfer_to_memory()\n",
    "ions= u.select_atoms('resname SOD CLA')\n",
    "\n",
    "# u1 = mda.Universe('mdr1.gro', 'mdr1.xtc')\n",
    "# u1.transfer_to_memory()\n",
    "# ions1= u1.select_atoms('resname SOD CLA')\n",
    "\n",
    "# u2 = mda.Universe('mdr2.gro', 'mdr2.xtc')\n",
    "# u2.transfer_to_memory()\n",
    "# ions2= u2.select_atoms('resname SOD CLA')\n",
    "\n",
    "# u3 = mda.Universe('mdr3.gro', 'mdr3.xtc')\n",
    "# u3.transfer_to_memory()\n",
    "# ions3= u3.select_atoms('resname SOD CLA')"
   ]
  },
  {
   "cell_type": "code",
   "execution_count": 3,
   "metadata": {},
   "outputs": [
    {
     "data": {
      "text/plain": [
       "501"
      ]
     },
     "execution_count": 3,
     "metadata": {},
     "output_type": "execute_result"
    }
   ],
   "source": [
    "len(u.trajectory)"
   ]
  },
  {
   "cell_type": "code",
   "execution_count": 10,
   "metadata": {},
   "outputs": [
    {
     "data": {
      "text/plain": [
       "376"
      ]
     },
     "execution_count": 10,
     "metadata": {},
     "output_type": "execute_result"
    }
   ],
   "source": [
    "len(ions)"
   ]
  },
  {
   "cell_type": "code",
   "execution_count": 11,
   "metadata": {},
   "outputs": [
    {
     "data": {
      "text/plain": [
       "501"
      ]
     },
     "execution_count": 11,
     "metadata": {},
     "output_type": "execute_result"
    }
   ],
   "source": [
    "ion_array=[]\n",
    "for ts in u.trajectory:\n",
    "    ions_z = ions.positions[:,2]\n",
    "    ion_array.append(ions_z)\n",
    "\n",
    "len(ion_array)"
   ]
  },
  {
   "cell_type": "code",
   "execution_count": 17,
   "metadata": {},
   "outputs": [],
   "source": [
    "with open('ion_array.txt', 'w') as f:\n",
    "    for i in ion_array:\n",
    "        f.write(f\"{i}\\n\\n\")"
   ]
  },
  {
   "cell_type": "code",
   "execution_count": 18,
   "metadata": {},
   "outputs": [],
   "source": [
    "with open('ion_array.bin', 'wb') as f:\n",
    "    pickle.dump(ion_array,f)"
   ]
  },
  {
   "cell_type": "code",
   "execution_count": 20,
   "metadata": {},
   "outputs": [
    {
     "name": "stdout",
     "output_type": "stream",
     "text": [
      "10000.0\n"
     ]
    }
   ],
   "source": [
    "for ts in u.trajectory:\n",
    "    total_time=u.trajectory.time\n",
    "\n",
    "print(total_time)"
   ]
  },
  {
   "cell_type": "code",
   "execution_count": null,
   "metadata": {},
   "outputs": [],
   "source": []
  }
 ],
 "metadata": {
  "kernelspec": {
   "display_name": "mdanalysis",
   "language": "python",
   "name": "python3"
  },
  "language_info": {
   "codemirror_mode": {
    "name": "ipython",
    "version": 3
   },
   "file_extension": ".py",
   "mimetype": "text/x-python",
   "name": "python",
   "nbconvert_exporter": "python",
   "pygments_lexer": "ipython3",
   "version": "3.10.13"
  }
 },
 "nbformat": 4,
 "nbformat_minor": 2
}
