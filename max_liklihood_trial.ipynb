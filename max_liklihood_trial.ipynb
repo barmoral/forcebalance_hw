{
 "cells": [
  {
   "cell_type": "markdown",
   "metadata": {},
   "source": [
    "## Maximum Likelihood Parameter Optimization"
   ]
  },
  {
   "cell_type": "markdown",
   "metadata": {},
   "source": [
    "Now, we try maximum likelihood parameter optimization.  The basic idea is to express the probability of parameters given the data, $P(a|x)$, and using Bayes' rule to find that \n",
    "\n",
    "$P(a|x) = \\frac{P(x|a)P(a)}{P(x)}$\n",
    "\n",
    "We want to find the parameters \n",
    "$P(x)$ does not depend on the parameters. If we assume no prior information about the parameters $P(a)$ (that would be Bayesian inference), then we have.\n",
    "\n",
    "$P(a|x) \\propto P(x|a)$\n",
    "\n",
    "So we need to maximize the probability given the data $P(\\vec{x}|a)$. Assuming the samples are independent, then the total probability given all of the data is $\\prod_{i=1}^N P(x_i|a)$.  \n",
    "\n",
    "Since the logarithm is a monotonic function, then maximizing $\\ln P(\\vec{x}|a) = \\sum_{i=1}^N \\ln P(x_i|a)$ is the same as maximizing $P(\\vec{x}|a$)."
   ]
  },
  {
   "cell_type": "markdown",
   "metadata": {},
   "source": [
    "### Trial Problem"
   ]
  },
  {
   "cell_type": "markdown",
   "metadata": {},
   "source": [
    "To observe how this works, we first do a trial problem. We generate data from a spring with a spring constant of `setconst`, and take the positive half.  We normalize such that the total number of particles is 100. This is our collected distribution.  We wish to recover the correct parameters for this distribution.  We treat it as a single parameter model with the force constant.  \n",
    "\n",
    "Some initial math: if the force constant is $k$, then the unnormalized density is $e^{-kz^2/2RT} = e^{-x^2/2\\sigma^2}$, so $\\sigma^2 = RT/k$, and $\\sigma = \\sqrt{RT/k}$. The normalization constant for the Gaussian is $\\sqrt{2\\pi\\sigma^2} = \\sqrt{2\\pi R T/k}$, which is $\\sqrt{\\pi R T/2k}$ for the half Gaussian."
   ]
  },
  {
   "cell_type": "code",
   "execution_count": 17,
   "metadata": {},
   "outputs": [],
   "source": [
    "from scipy.integrate import quad\n",
    "import numpy as np\n",
    "import matplotlib.pyplot as plt\n",
    "from scipy.optimize import least_squares,minimize"
   ]
  },
  {
   "cell_type": "code",
   "execution_count": 8,
   "metadata": {},
   "outputs": [],
   "source": [
    "R = 8.31446261815324  # units: J/(mol*K) - ideal gas constant\n",
    "T = 300  # units: K - temperature used for calculations"
   ]
  },
  {
   "cell_type": "code",
   "execution_count": 4,
   "metadata": {},
   "outputs": [],
   "source": [
    "setconst=60 #spring constant\n",
    "Np = 100 #normalized number of particles"
   ]
  },
  {
   "cell_type": "code",
   "execution_count": 9,
   "metadata": {},
   "outputs": [],
   "source": [
    "zp = np.sqrt(R*T/setconst)*np.random.randn(100000) #normalization constant for gaussian * random data with gaussian dist\n",
    "zph = zp[zp>0] #take only possitive side of gaussian"
   ]
  },
  {
   "cell_type": "code",
   "execution_count": 10,
   "metadata": {},
   "outputs": [
    {
     "name": "stdout",
     "output_type": "stream",
     "text": [
      "8.080942810052731\n",
      "8.080942810052731\n"
     ]
    }
   ],
   "source": [
    "zp_ideal = lambda z: np.exp(-setconst*z*z/(2*R*T)) #unnormalized density\n",
    "zp_norm = quad(zp_ideal,0,100)[0]\n",
    "print(zp_norm)\n",
    "zp_norm = np.sqrt(np.pi*R*T/(2*setconst)) #normalization constant for positive half of Gaussian\n",
    "print(zp_norm)"
   ]
  },
  {
   "cell_type": "code",
   "execution_count": 13,
   "metadata": {},
   "outputs": [
    {
     "data": {
      "image/png": "[encoded data removed]",
      "text/plain": [
       "<Figure size 640x480 with 1 Axes>"
      ]
     },
     "metadata": {},
     "output_type": "display_data"
    }
   ],
   "source": [
    "#Plotting half gaussian\n",
    "zgrid = np.linspace(0,30,1000)\n",
    "plt.plot(zgrid,zp_ideal(zgrid)/zp_norm)\n",
    "plt.hist(zph,density=True,bins=100,color='k',alpha=0.4)\n",
    "plt.show()"
   ]
  },
  {
   "cell_type": "markdown",
   "metadata": {},
   "source": [
    "If $p_{ideal} = e^{-U/RT}$, then the concentration is $(N_p/p_{norm})\\times p_{ideal}(z)$, and the probability of a particle occuring at a given distance is $p_{ideal}(z)/p_{norm}$.\n",
    "\n",
    "We now assume that we don't know what distribution the data is taken from, but whsh to figure out the best fit of this distribution to a paramterized distribution.  We assume our parameterized concentration is of the form $f(a,z) = N e^{-az^2/2RT}$, multiplied by any needed normalizing constant $N$ to satisfy the total amount. The logarithm of this probability is $\\ln p(a,z) = -\\frac{az^2}{2RT} - \\ln N$. We can figure out the normalizing constant of our parameterized distribution, but we do not know the true distribution, so we may have to estimate the normalizing constant. \n"
   ]
  },
  {
   "cell_type": "markdown",
   "metadata": {},
   "source": []
  },
  {
   "cell_type": "markdown",
   "metadata": {},
   "source": [
    "Next, we need to write out a formula for $\\prod_i p(a,z_i)$.  Note that this needs to be the **normalized** probability, otherwise we won't be writing products of percentages.\n",
    "\n",
    "We then attempt to maximize $\\prod_i p(a,z_i)$, where the product is over the data samples we have collected.  The values of $a$ that maximize this product will be the maximum likelihood distribution. \n",
    "\n",
    "Generally it is more numerically stable, and often easier to work with, to maximize the log likelihood, $\\ln \\prod_i p(a,z_i) = \\sum_i \\ln p(a,z_i)$. \n",
    "\n",
    "For our trial function, the log likelihood is: \n",
    "$-az^2/(2RT)-\\ln \\sqrt{\\pi R T/2a} = -az^2/(2RT) - 1/2 \\ln (\\pi R T/2) + 1/2\\ln a$. If we want to minimize this, we can eliminate any terms that do not involve the parameter $a$, so we can minimize simply $-az^2/RT+ 1/2 \\ln a$. "
   ]
  },
  {
   "cell_type": "code",
   "execution_count": 14,
   "metadata": {},
   "outputs": [],
   "source": [
    "def logp(a,z):\n",
    "    return -a[0]*z*z/(2*R*T) + 0.5*np.log(a[0])"
   ]
  },
  {
   "cell_type": "markdown",
   "metadata": {},
   "source": [
    "Set up the sum of the log probabilities of the data compared to the model.  Multiply it by -1 since we only have minimizers, not maximizers."
   ]
  },
  {
   "cell_type": "code",
   "execution_count": 19,
   "metadata": {},
   "outputs": [],
   "source": [
    "def nl(a,z):\n",
    "    # sum of the log likelihood\n",
    "    csum = np.sum(logp(a,z))\n",
    "    return -1*csum"
   ]
  },
  {
   "cell_type": "markdown",
   "metadata": {},
   "source": [
    "Now minimze!"
   ]
  },
  {
   "cell_type": "code",
   "execution_count": 20,
   "metadata": {},
   "outputs": [],
   "source": [
    "results = minimize(nl,[4],args=(zph),method='L-BFGS-B')"
   ]
  },
  {
   "cell_type": "markdown",
   "metadata": {},
   "source": [
    "The result is consistent with the model up to noise!"
   ]
  },
  {
   "cell_type": "code",
   "execution_count": 21,
   "metadata": {},
   "outputs": [
    {
     "data": {
      "text/plain": [
       "array([60.45573646])"
      ]
     },
     "execution_count": 21,
     "metadata": {},
     "output_type": "execute_result"
    }
   ],
   "source": [
    "results.x"
   ]
  },
  {
   "cell_type": "code",
   "execution_count": 22,
   "metadata": {},
   "outputs": [
    {
     "name": "stdout",
     "output_type": "stream",
     "text": [
      "[60.45524005]\n"
     ]
    }
   ],
   "source": [
    "results = minimize(nl,[100],args=(zph),method='L-BFGS-B')\n",
    "print(results.x)"
   ]
  },
  {
   "cell_type": "markdown",
   "metadata": {},
   "source": [
    "We get the right answer to within statistical precision."
   ]
  },
  {
   "cell_type": "code",
   "execution_count": null,
   "metadata": {},
   "outputs": [],
   "source": []
  }
 ],
 "metadata": {
  "kernelspec": {
   "display_name": "mdanalysis",
   "language": "python",
   "name": "python3"
  },
  "language_info": {
   "codemirror_mode": {
    "name": "ipython",
    "version": 3
   },
   "file_extension": ".py",
   "mimetype": "text/x-python",
   "name": "python",
   "nbconvert_exporter": "python",
   "pygments_lexer": "ipython3",
   "version": "3.10.13"
  }
 },
 "nbformat": 4,
 "nbformat_minor": 2
}
